{
  "cells": [
    {
      "cell_type": "markdown",
      "metadata": {
        "id": "view-in-github",
        "colab_type": "text"
      },
      "source": [
        "<a href=\"https://colab.research.google.com/github/ArllyMaciel/FMF-Arlly_Maciel/blob/main/Codigo_Fluxo_de_caixa.ipynb\" target=\"_parent\"><img src=\"https://colab.research.google.com/assets/colab-badge.svg\" alt=\"Open In Colab\"/></a>"
      ]
    },
    {
      "cell_type": "markdown",
      "source": [
        "Autor: Arlly Maciel\n",
        "Data: 29/09/2024\n",
        "Projeto: Trabalho 01\n",
        "Título: Sistema de Fluxo de Caixa"
      ],
      "metadata": {
        "id": "KbqTB0BpxdC7"
      }
    },
    {
      "cell_type": "code",
      "source": [
        "receita = []\n",
        "despesa = []\n",
        "saldo = 0\n",
        "escolha = True\n",
        "while escolha:\n",
        "  print(\"\\n\")\n",
        "  print(\"Fluxo de Caixa\")\n",
        "  print(\"\"\"\n",
        "  1. Receita\n",
        "  2. Despesa\n",
        "  3. Consulta o Saldo\n",
        "  4. Exit/Quit/Saida\n",
        "  \"\"\")\n",
        "  escolha=input(\"Escolha uma opção:  \")\n",
        "  if escolha== \"1\":\n",
        "    print('\\n')\n",
        "    introduza_receita = float(input(\"Introduza a nova receita:  \"))\n",
        "    receita.append(introduza_receita)\n",
        "    saldo = sum(receita) - sum(despesa)\n",
        "    print(f\"O saldo do caixa atual é de {saldo}\")\n",
        "  elif escolha== \"2\":\n",
        "    print('\\n')\n",
        "    posicao = 0\n",
        "    introduza_despesa = float(input(\"Introduza a nova despesa:  \"))\n",
        "    despesa.append(introduza_despesa)\n",
        "    saldo = sum(receita) - sum(despesa)\n",
        "    if saldo<0:\n",
        "      del despesa[posicao]\n",
        "      print(\"O saldo do caixa está negativo!\")\n",
        "    else:\n",
        "      saldo = sum(receita) - sum(despesa)\n",
        "      print(f\"O saldo do caixa atual é de {saldo}\")\n",
        "      posicao = posicao+1\n",
        "  elif escolha == \"3\":\n",
        "    print(f\"O saldo atual é de {saldo}\")\n",
        "  elif escolha == \"4\":\n",
        "    print(\"Fim do programa\")\n",
        "    quit()\n",
        "  else:\n",
        "    print(\"\\n Escolha não válida. \\n Tente outra vez.\")"
      ],
      "metadata": {
        "id": "e1TDhm78nArw"
      },
      "execution_count": null,
      "outputs": []
    },
    {
      "cell_type": "code",
      "source": [],
      "metadata": {
        "id": "F0zZexb5qkkx"
      },
      "execution_count": null,
      "outputs": []
    }
  ],
  "metadata": {
    "colab": {
      "name": "Olá, este é o Colaboratory",
      "toc_visible": true,
      "provenance": [],
      "include_colab_link": true
    },
    "kernelspec": {
      "display_name": "Python 3",
      "name": "python3"
    }
  },
  "nbformat": 4,
  "nbformat_minor": 0
}