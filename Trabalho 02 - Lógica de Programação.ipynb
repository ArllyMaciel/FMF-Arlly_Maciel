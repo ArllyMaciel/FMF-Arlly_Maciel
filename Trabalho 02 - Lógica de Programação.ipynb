{
  "cells": [
    {
      "cell_type": "markdown",
      "metadata": {
        "id": "view-in-github",
        "colab_type": "text"
      },
      "source": [
        "<a href=\"https://colab.research.google.com/github/ArllyMaciel/FMF-Arlly_Maciel/blob/main/Trabalho%2002%20-%20L%C3%B3gica%20de%20Programa%C3%A7%C3%A3o.ipynb\" target=\"_parent\"><img src=\"https://colab.research.google.com/assets/colab-badge.svg\" alt=\"Open In Colab\"/></a>"
      ]
    },
    {
      "cell_type": "code",
      "source": [
        "#autor: Arlly Maciel\n",
        "#Data: 01/11/2024\n",
        "# Código: Baskara a, b, c\n",
        "\n",
        "# importando biblioteca matemática\n",
        "import math\n",
        "\n",
        "\n",
        "a = float(input(\"Digite o valor de a: \"))\n",
        "b = float(input(\"Digite o valor de b: \"))\n",
        "c = float(input(\"Digite o valor de c: \"))\n",
        "\n",
        "delta = b**2 - 4*a*c\n",
        "if delta == 0:\n",
        "    raiz1 = (-b+math.sqrt(delta))/(2*a)\n",
        "    print(\" Essa equação tem a as mesmas raízes: \", raiz1)\n",
        "else:\n",
        "    if delta < 0:\n",
        "        print(\"A equação não tem raízes reais\")\n",
        "    else:\n",
        "        raiz1 = (-b + math.sqrt(delta)) / (2 * a)\n",
        "        raiz2 = (-b-math.sqrt(delta))/(2*a)\n",
        "        print(\"A primeira raiz da equação é: \", raiz1)\n",
        "        print(\"A segunda raiz da equação é: \", raiz2)"
      ],
      "metadata": {
        "id": "si8xnLKKQ5Vf"
      },
      "execution_count": null,
      "outputs": []
    }
  ],
  "metadata": {
    "colab": {
      "name": "Olá, este é o Colaboratory",
      "toc_visible": true,
      "provenance": [],
      "include_colab_link": true
    },
    "kernelspec": {
      "display_name": "Python 3",
      "name": "python3"
    }
  },
  "nbformat": 4,
  "nbformat_minor": 0
}