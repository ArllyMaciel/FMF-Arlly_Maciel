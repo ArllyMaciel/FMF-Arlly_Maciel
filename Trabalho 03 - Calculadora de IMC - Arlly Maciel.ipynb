{
  "cells": [
    {
      "cell_type": "markdown",
      "metadata": {
        "id": "view-in-github",
        "colab_type": "text"
      },
      "source": [
        "<a href=\"https://colab.research.google.com/github/ArllyMaciel/FMF-Arlly_Maciel/blob/main/Trabalho%2003%20-%20Calculadora%20de%20IMC%20-%20Arlly%20Maciel.ipynb\" target=\"_parent\"><img src=\"https://colab.research.google.com/assets/colab-badge.svg\" alt=\"Open In Colab\"/></a>"
      ]
    },
    {
      "cell_type": "markdown",
      "source": [
        "#Autor: Arlly Maciel\n",
        "#Projeto: Calculadora de IMC\n",
        "#Data: 13/11/2024"
      ],
      "metadata": {
        "id": "3PCIHJ4mVTdL"
      }
    },
    {
      "cell_type": "code",
      "source": [
        "\n",
        "\n",
        "def calcular_imc():\n",
        "    peso = float(input(\"Digite o seu peso: \"))\n",
        "    altura = float(input(\"Digite a sua altura: \"))\n",
        "    imc = peso / (altura ** 2)\n",
        "\n",
        "    if imc < 18.5:\n",
        "        resultado = \"Abaixo do peso\"\n",
        "    elif 18.5 <= imc < 25:\n",
        "        resultado = \"Peso normal\"\n",
        "    elif 25 <= imc < 30:\n",
        "        resultado = \"Sobrepeso\"\n",
        "    elif 30 <= imc < 35:\n",
        "        resultado = \"Obesidade grau I\"\n",
        "    else:\n",
        "        resultado = \"Obesidade grau II\"\n",
        "\n",
        "    print(f\"O seu IMC é: {imc} e sua classificação é: {resultado}\")\n",
        "calcular_imc()"
      ],
      "metadata": {
        "id": "mJRkL0tQVrRM",
        "outputId": "7edbb582-9e98-49ae-aed6-1ce44fff8f25",
        "colab": {
          "base_uri": "https://localhost:8080/"
        }
      },
      "execution_count": 10,
      "outputs": [
        {
          "output_type": "stream",
          "name": "stdout",
          "text": [
            "Digite o seu peso: 111\n",
            "Digite a sua altura: 1.71\n",
            "O seu IMC é: 37.960398071201396 e sua classificação é: Obesidade grau II\n"
          ]
        }
      ]
    }
  ],
  "metadata": {
    "colab": {
      "toc_visible": true,
      "provenance": [],
      "include_colab_link": true
    },
    "kernelspec": {
      "display_name": "Python 3",
      "name": "python3"
    }
  },
  "nbformat": 4,
  "nbformat_minor": 0
}