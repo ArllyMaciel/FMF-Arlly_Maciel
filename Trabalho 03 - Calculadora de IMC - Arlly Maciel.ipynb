{
  "cells": [
    {
      "cell_type": "markdown",
      "metadata": {
        "id": "view-in-github",
        "colab_type": "text"
      },
      "source": [
        "<a href=\"https://colab.research.google.com/github/ArllyMaciel/FMF-Arlly_Maciel/blob/main/Trabalho%2003%20-%20Calculadora%20de%20IMC%20-%20Arlly%20Maciel.ipynb\" target=\"_parent\"><img src=\"https://colab.research.google.com/assets/colab-badge.svg\" alt=\"Open In Colab\"/></a>"
      ]
    },
    {
      "cell_type": "markdown",
      "source": [
        "#Autor: Arlly Maciel\n",
        "#Projeto: Calculadora de IMC\n",
        "#Data: 13/11/2024"
      ],
      "metadata": {
        "id": "3PCIHJ4mVTdL"
      }
    },
    {
      "cell_type": "code",
      "source": [
        "import tkinter as tk\n",
        "\n",
        "def calcular_imc():\n",
        "    peso = float(entry_peso.get())\n",
        "    altura = float(entry_altura.get())\n",
        "    imc = peso / (altura ** 2)\n",
        "\n",
        "    if imc < 18.5:\n",
        "        resultado = \"Abaixo do peso\"\n",
        "    elif 18.5 <= imc < 25:\n",
        "        resultado = \"Peso normal\"\n",
        "    elif 25 <= imc < 30:\n",
        "        resultado = \"Sobrepeso\"\n",
        "    elif 30 <= imc < 35:\n",
        "        resultado = \"Obesidade grau I\"\n",
        "    else:\n",
        "        resultado = \"Obesidade grau II\"\n",
        "\n",
        "    label_resultado.config(text=f\"Seu IMC é: {imc:.2f}\\nClassificação: {resultado}\")\n",
        "\n",
        "# Criando a janela principal\n",
        "janela = tk.Tk()\n",
        "janela.title(\"Calculadora de IMC\")\n",
        "\n",
        "# Rótulos e campos de entrada\n",
        "label_peso = tk.Label(janela, text=\"Peso (kg):\")\n",
        "entry_peso = tk.Entry(janela)\n",
        "\n",
        "label_altura = tk.Label(janela, text=\"Altura (m):\")\n",
        "entry_altura = tk.Entry(janela)\n",
        "\n",
        "# Botão para calcular\n",
        "botao_calcular = tk.Button(janela, text=\"Calcular IMC\", command=calcular_imc)\n",
        "\n",
        "# Rótulo para exibir o resultado\n",
        "label_resultado = tk.Label(janela, text=\"\")\n",
        "\n",
        "# Colocando os elementos na tela\n",
        "label_peso.pack()\n",
        "entry_peso.pack()\n",
        "label_altura.pack()\n",
        "entry_altura.pack()\n",
        "botao_calcular.pack()\n",
        "label_resultado.pack()\n",
        "\n",
        "janela.mainloop()"
      ],
      "metadata": {
        "id": "mJRkL0tQVrRM",
        "outputId": "6c339df6-9738-4df4-b82b-be6d1b9538d4",
        "colab": {
          "base_uri": "https://localhost:8080/",
          "height": 332
        }
      },
      "execution_count": null,
      "outputs": [
        {
          "output_type": "error",
          "ename": "TclError",
          "evalue": "no display name and no $DISPLAY environment variable",
          "traceback": [
            "\u001b[0;31m---------------------------------------------------------------------------\u001b[0m",
            "\u001b[0;31mTclError\u001b[0m                                  Traceback (most recent call last)",
            "\u001b[0;32m<ipython-input-3-a6d06da91a81>\u001b[0m in \u001b[0;36m<cell line: 22>\u001b[0;34m()\u001b[0m\n\u001b[1;32m     20\u001b[0m \u001b[0;34m\u001b[0m\u001b[0m\n\u001b[1;32m     21\u001b[0m \u001b[0;31m# Criando a janela principal\u001b[0m\u001b[0;34m\u001b[0m\u001b[0;34m\u001b[0m\u001b[0m\n\u001b[0;32m---> 22\u001b[0;31m \u001b[0mjanela\u001b[0m \u001b[0;34m=\u001b[0m \u001b[0mtk\u001b[0m\u001b[0;34m.\u001b[0m\u001b[0mTk\u001b[0m\u001b[0;34m(\u001b[0m\u001b[0;34m)\u001b[0m\u001b[0;34m\u001b[0m\u001b[0;34m\u001b[0m\u001b[0m\n\u001b[0m\u001b[1;32m     23\u001b[0m \u001b[0mjanela\u001b[0m\u001b[0;34m.\u001b[0m\u001b[0mtitle\u001b[0m\u001b[0;34m(\u001b[0m\u001b[0;34m\"Calculadora de IMC\"\u001b[0m\u001b[0;34m)\u001b[0m\u001b[0;34m\u001b[0m\u001b[0;34m\u001b[0m\u001b[0m\n\u001b[1;32m     24\u001b[0m \u001b[0;34m\u001b[0m\u001b[0m\n",
            "\u001b[0;32m/usr/lib/python3.10/tkinter/__init__.py\u001b[0m in \u001b[0;36m__init__\u001b[0;34m(self, screenName, baseName, className, useTk, sync, use)\u001b[0m\n\u001b[1;32m   2297\u001b[0m                 \u001b[0mbaseName\u001b[0m \u001b[0;34m=\u001b[0m \u001b[0mbaseName\u001b[0m \u001b[0;34m+\u001b[0m \u001b[0mext\u001b[0m\u001b[0;34m\u001b[0m\u001b[0;34m\u001b[0m\u001b[0m\n\u001b[1;32m   2298\u001b[0m         \u001b[0minteractive\u001b[0m \u001b[0;34m=\u001b[0m \u001b[0;32mFalse\u001b[0m\u001b[0;34m\u001b[0m\u001b[0;34m\u001b[0m\u001b[0m\n\u001b[0;32m-> 2299\u001b[0;31m         \u001b[0mself\u001b[0m\u001b[0;34m.\u001b[0m\u001b[0mtk\u001b[0m \u001b[0;34m=\u001b[0m \u001b[0m_tkinter\u001b[0m\u001b[0;34m.\u001b[0m\u001b[0mcreate\u001b[0m\u001b[0;34m(\u001b[0m\u001b[0mscreenName\u001b[0m\u001b[0;34m,\u001b[0m \u001b[0mbaseName\u001b[0m\u001b[0;34m,\u001b[0m \u001b[0mclassName\u001b[0m\u001b[0;34m,\u001b[0m \u001b[0minteractive\u001b[0m\u001b[0;34m,\u001b[0m \u001b[0mwantobjects\u001b[0m\u001b[0;34m,\u001b[0m \u001b[0museTk\u001b[0m\u001b[0;34m,\u001b[0m \u001b[0msync\u001b[0m\u001b[0;34m,\u001b[0m \u001b[0muse\u001b[0m\u001b[0;34m)\u001b[0m\u001b[0;34m\u001b[0m\u001b[0;34m\u001b[0m\u001b[0m\n\u001b[0m\u001b[1;32m   2300\u001b[0m         \u001b[0;32mif\u001b[0m \u001b[0museTk\u001b[0m\u001b[0;34m:\u001b[0m\u001b[0;34m\u001b[0m\u001b[0;34m\u001b[0m\u001b[0m\n\u001b[1;32m   2301\u001b[0m             \u001b[0mself\u001b[0m\u001b[0;34m.\u001b[0m\u001b[0m_loadtk\u001b[0m\u001b[0;34m(\u001b[0m\u001b[0;34m)\u001b[0m\u001b[0;34m\u001b[0m\u001b[0;34m\u001b[0m\u001b[0m\n",
            "\u001b[0;31mTclError\u001b[0m: no display name and no $DISPLAY environment variable"
          ]
        }
      ]
    }
  ],
  "metadata": {
    "colab": {
      "toc_visible": true,
      "provenance": [],
      "include_colab_link": true
    },
    "kernelspec": {
      "display_name": "Python 3",
      "name": "python3"
    }
  },
  "nbformat": 4,
  "nbformat_minor": 0
}